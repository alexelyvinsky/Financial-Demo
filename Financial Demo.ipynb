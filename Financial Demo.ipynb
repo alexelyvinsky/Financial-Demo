{
 "cells": [
  {
   "cell_type": "code",
   "execution_count": 0,
   "metadata": {
    "application/vnd.databricks.v1+cell": {
     "cellMetadata": {
      "byteLimit": 2048000,
      "rowLimit": 10000
     },
     "inputWidgets": {},
     "nuid": "6e964ff1-c8b5-486e-9488-65cb3f770676",
     "showTitle": false,
     "title": ""
    }
   },
   "outputs": [],
   "source": [
    "# Setup\n",
    "from pyspark.sql import SparkSession\n",
    "from pyspark.sql.functions import *\n",
    "from datetime import datetime, timedelta\n",
    "from pyspark.sql.window import Window\n",
    "import random\n",
    "\n",
    "# Start a Spark session\n",
    "spark = SparkSession.builder.appName(\"DatabricksFinancialDemo\").getOrCreate()"
   ]
  },
  {
   "cell_type": "code",
   "execution_count": 0,
   "metadata": {
    "application/vnd.databricks.v1+cell": {
     "cellMetadata": {
      "byteLimit": 2048000,
      "rowLimit": 10000
     },
     "inputWidgets": {},
     "nuid": "42b92415-0aff-4f80-9964-c3c907310389",
     "showTitle": false,
     "title": ""
    }
   },
   "outputs": [
    {
     "output_type": "stream",
     "name": "stdout",
     "output_type": "stream",
     "text": [
      "+--------------------+------------------+---------+\n|                Date|             Close|   Volume|\n+--------------------+------------------+---------+\n|2023-10-20 02:46:...| 125.9914276556439|125827043|\n|2023-10-19 02:46:...| 130.2954505655251| 76891314|\n|2023-10-18 02:46:...|129.94139201395572|155375990|\n|2023-10-17 02:46:...|137.92935379576267|196324605|\n|2023-10-16 02:46:...|148.97024916556785|120882182|\n|2023-10-15 02:46:...|146.03799697510834|191437670|\n|2023-10-14 02:46:...|123.26679129488465| 95653833|\n|2023-10-13 02:46:...|141.43950041307306|138182486|\n|2023-10-12 02:46:...|149.77764187373316| 58018881|\n|2023-10-11 02:46:...| 128.5871930871246| 52605476|\n|2023-10-10 02:46:...|120.78438798338215|194187107|\n|2023-10-09 02:46:...|126.98117136564747|149013988|\n|2023-10-08 02:46:...|120.13397562216726|141042273|\n|2023-10-07 02:46:...|139.67989812984766|192899289|\n|2023-10-06 02:46:...| 139.5078706382219|192214316|\n|2023-10-05 02:46:...| 128.7878121782671| 74512905|\n|2023-10-04 02:46:...|123.96123062911201| 96476259|\n|2023-10-03 02:46:...|123.91623399408148|134210261|\n|2023-10-02 02:46:...|139.09428158309169| 72716584|\n|2023-10-01 02:46:...| 130.2195527363944|142470272|\n+--------------------+------------------+---------+\nonly showing top 20 rows\n\n"
     ]
    }
   ],
   "source": [
    "# Generate Mock Financial Data for Apple Inc. (AAPL) over the last year\n",
    "dates = [(datetime.now() - timedelta(days=i)) for i in range(365)]\n",
    "closing_prices = [random.uniform(120, 150) for _ in range(365)]  # Random closing prices between 120 and 150\n",
    "volumes = [random.randint(50000000, 200000000) for _ in range(365)]  # Random volumes between 50M and 200M\n",
    "\n",
    "data = list(zip(dates, closing_prices, volumes))\n",
    "columns = [\"Date\", \"Close\", \"Volume\"]\n",
    "\n",
    "df = spark.createDataFrame(data, columns)\n",
    "df.show()"
   ]
  },
  {
   "cell_type": "code",
   "execution_count": 0,
   "metadata": {
    "application/vnd.databricks.v1+cell": {
     "cellMetadata": {
      "byteLimit": 2048000,
      "rowLimit": 10000
     },
     "inputWidgets": {},
     "nuid": "2d7133a5-de17-4c53-84fa-9cb3f6396fa5",
     "showTitle": false,
     "title": ""
    }
   },
   "outputs": [
    {
     "output_type": "stream",
     "name": "stdout",
     "output_type": "stream",
     "text": [
      "Mock Average Closing Price of AAPL over the last year: $134.94\nDay with the highest mock trading volume for AAPL: 2023-04-16 02:46:13.921871\n"
     ]
    }
   ],
   "source": [
    "# Basic Manipulations\n",
    "\n",
    "# Average Closing Price\n",
    "avg_close = df.agg(avg(\"Close\")).collect()[0][0]\n",
    "print(f\"Mock Average Closing Price of AAPL over the last year: ${avg_close:.2f}\")\n",
    "\n",
    "# Day with the Highest Volume\n",
    "max_volume_day_row = df.orderBy(desc(\"Volume\")).select(\"Date\").head()\n",
    "max_volume_day = max_volume_day_row.Date\n",
    "print(f\"Day with the highest mock trading volume for AAPL: {max_volume_day}\")"
   ]
  },
  {
   "cell_type": "code",
   "execution_count": 0,
   "metadata": {
    "application/vnd.databricks.v1+cell": {
     "cellMetadata": {
      "byteLimit": 2048000,
      "rowLimit": 10000
     },
     "inputWidgets": {},
     "nuid": "ed61f1f2-57a1-4b69-9d33-a63aac8f85d6",
     "showTitle": false,
     "title": ""
    }
   },
   "outputs": [
    {
     "output_type": "stream",
     "name": "stdout",
     "output_type": "stream",
     "text": [
      "+----+-----+------------------+------------------+-------------------+\n|Year|Month|   MonthlyAvgClose|    PrevMonthClose|          MoMChange|\n+----+-----+------------------+------------------+-------------------+\n|2022|   10|132.95428697814998|              null|               null|\n|2022|   11|  136.179644385601|132.95428697814998|  2.425914561131133|\n|2022|   12|134.08902028868337|  136.179644385601|-1.5351957382102515|\n|2023|    1|  133.772915256676|              null|               null|\n|2023|    2|137.08693019024818|  133.772915256676|  2.477343733754661|\n|2023|    3| 135.8383543429674|137.08693019024818|-0.9107913099724578|\n|2023|    4|132.78548904093674| 135.8383543429674|-2.2474251228947595|\n|2023|    5| 135.1510964152695|132.78548904093674| 1.7815255201594125|\n|2023|    6|134.27167567194596| 135.1510964152695|-0.6506944942728501|\n|2023|    7|135.39790138196392|134.27167567194596| 0.8387664072723495|\n|2023|    8| 134.6266694443306|135.39790138196392|-0.5696040557214024|\n|2023|    9|137.46098707260288| 134.6266694443306| 2.1053166062644855|\n|2023|   10|132.76517058502958|137.46098707260288|-3.4161085174611054|\n+----+-----+------------------+------------------+-------------------+\n\n"
     ]
    }
   ],
   "source": [
    "# More Advanced Manipulations\n",
    "\n",
    "# Add a new column for month and year\n",
    "df_with_month_year = df.withColumn(\"Year\", year(\"Date\")).withColumn(\"Month\", month(\"Date\"))\n",
    "\n",
    "# Calculate monthly average closing price\n",
    "monthly_avg = df_with_month_year.groupBy(\"Year\", \"Month\").agg(avg(\"Close\").alias(\"MonthlyAvgClose\"))\n",
    "\n",
    "# Calculate month-over-month percentage change\n",
    "window_spec = Window.partitionBy(\"Year\").orderBy(\"Month\")\n",
    "monthly_avg_with_change = monthly_avg.withColumn(\"PrevMonthClose\", lag(\"MonthlyAvgClose\", 1).over(window_spec))\n",
    "monthly_avg_with_change = monthly_avg_with_change.withColumn(\"MoMChange\", (col(\"MonthlyAvgClose\") - col(\"PrevMonthClose\")) / col(\"PrevMonthClose\") * 100)\n",
    "\n",
    "monthly_avg_with_change.show()"
   ]
  },
  {
   "cell_type": "code",
   "execution_count": 0,
   "metadata": {
    "application/vnd.databricks.v1+cell": {
     "cellMetadata": {
      "byteLimit": 2048000,
      "rowLimit": 10000
     },
     "inputWidgets": {},
     "nuid": "cba308fc-1721-4ff9-81ca-25495cd6aa3f",
     "showTitle": false,
     "title": ""
    }
   },
   "outputs": [
    {
     "output_type": "stream",
     "name": "stdout",
     "output_type": "stream",
     "text": [
      "+----+-----+------------------+\n|Year|Month|    LowestAvgClose|\n+----+-----+------------------+\n|2022|   10|131.42102960680432|\n+----+-----+------------------+\n\n"
     ]
    }
   ],
   "source": [
    "# Using spark.sql to find the month with the lowest average closing price\n",
    "result = spark.sql(\"\"\"\n",
    "    SELECT Year, Month, MonthlyAvgClose as LowestAvgClose\n",
    "    FROM (\n",
    "        SELECT Year, Month, AVG(Close) as MonthlyAvgClose\n",
    "        FROM apple_financials\n",
    "        GROUP BY Year, Month\n",
    "    ) as monthly_data\n",
    "    ORDER BY MonthlyAvgClose ASC\n",
    "    LIMIT 1\n",
    "\"\"\")\n",
    "\n",
    "result.show()"
   ]
  }
 ],
 "metadata": {
  "application/vnd.databricks.v1+notebook": {
   "dashboards": [],
   "language": "python",
   "notebookMetadata": {
    "pythonIndentUnit": 4
   },
   "notebookName": "Financial Demo",
   "widgets": {}
  }
 },
 "nbformat": 4,
 "nbformat_minor": 0
}
